{
  "nbformat": 4,
  "nbformat_minor": 0,
  "metadata": {
    "colab": {
      "name": "Lennard-Jones potential.ipynb",
      "provenance": [],
      "authorship_tag": "ABX9TyPOLZ9bIYvRRKk7jTAgmG4s",
      "include_colab_link": true
    },
    "kernelspec": {
      "name": "python3",
      "display_name": "Python 3"
    }
  },
  "cells": [
    {
      "cell_type": "markdown",
      "metadata": {
        "id": "view-in-github",
        "colab_type": "text"
      },
      "source": [
        "<a href=\"https://colab.research.google.com/github/kzhkAKT/shitsumon/blob/draft/Lennard_Jones_potential.ipynb\" target=\"_parent\"><img src=\"https://colab.research.google.com/assets/colab-badge.svg\" alt=\"Open In Colab\"/></a>"
      ]
    },
    {
      "cell_type": "markdown",
      "metadata": {
        "id": "g8ZaZDj857yQ"
      },
      "source": [
        "https://en.wikipedia.org/wiki/Lennard-Jones_potential"
      ]
    },
    {
      "cell_type": "markdown",
      "metadata": {
        "id": "OE4ViuPv3MWp"
      },
      "source": [
        "![](https://wikimedia.org/api/rest_v1/media/math/render/svg/08f49b5ecf3aaae7f73be45bd1a3a25c6bdf0a86)"
      ]
    },
    {
      "cell_type": "markdown",
      "metadata": {
        "id": "oecf_DX93P-g"
      },
      "source": [
        "\\begin{align}\n",
        "&= \\left[  \\dfrac{4 \\varepsilon\\sigma^{12}}{r^{12}} - \\dfrac{4 \\varepsilon\\sigma^{6}}{r^{6}}  \\right]\\\\\n",
        "&=  \\dfrac{A}{r^{12}} - \\dfrac{B}{r^{6}} = V_{\\rm LJ} (r)\\\\[5mm]\n",
        "%\n",
        "&\\dfrac{{\\rm d}V_{\\rm LJ} (r)}{{\\rm d} r} = 0\n",
        "\\quad\n",
        "\\to\n",
        "\\quad\n",
        "\\min{V_{\\rm LJ} (r)} = V_{\\rm LJ} (r_{\\rm min}) \n",
        "\\end{align}"
      ]
    }
  ]
}